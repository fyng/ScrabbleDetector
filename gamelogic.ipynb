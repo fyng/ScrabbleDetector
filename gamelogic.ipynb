{
  "nbformat": 4,
  "nbformat_minor": 0,
  "metadata": {
    "colab": {
      "provenance": [],
      "authorship_tag": "ABX9TyNZGhmfkUuQSvQQK+LYVyyM",
      "include_colab_link": true
    },
    "kernelspec": {
      "name": "python3",
      "display_name": "Python 3"
    },
    "language_info": {
      "name": "python"
    }
  },
  "cells": [
    {
      "cell_type": "markdown",
      "metadata": {
        "id": "view-in-github",
        "colab_type": "text"
      },
      "source": [
        "<a href=\"https://colab.research.google.com/github/fyng/ScrabbleReferee/blob/main/gamelogic.ipynb\" target=\"_parent\"><img src=\"https://colab.research.google.com/assets/colab-badge.svg\" alt=\"Open In Colab\"/></a>"
      ]
    },
    {
      "cell_type": "code",
      "execution_count": 2,
      "metadata": {
        "id": "aTXE9-JGvhn9"
      },
      "outputs": [],
      "source": [
        "# define the dimensions of the board\n",
        "BOARD_SIZE = 15\n",
        "\n",
        "# initialize the board with blank spaces\n",
        "board = [[' ' for x in range(BOARD_SIZE)] for y in range(BOARD_SIZE)]\n",
        "\n",
        "# function to check if a given board is valid\n",
        "def is_valid_board(board):\n",
        "    # check the dimensions of the board\n",
        "    if len(board) != BOARD_SIZE:\n",
        "        return False\n",
        "    for row in board:\n",
        "        if len(row) != BOARD_SIZE:\n",
        "            return False\n",
        "    \n",
        "    # check that the board has at least one tile\n",
        "    has_tile = False\n",
        "    for row in board:\n",
        "        for tile in row:\n",
        "            if tile != ' ':\n",
        "                has_tile = True\n",
        "                break\n",
        "        if has_tile:\n",
        "            break\n",
        "    if not has_tile:\n",
        "        return False\n",
        "    \n",
        "    # check that the board is symmetrical along the center\n",
        "    for i in range(BOARD_SIZE // 2):\n",
        "        for j in range(BOARD_SIZE):\n",
        "            if board[i][j] != board[BOARD_SIZE-i-1][BOARD_SIZE-j-1]:\n",
        "                return False\n",
        "    \n",
        "    # if all checks pass, the board is valid\n",
        "    return True\n",
        "\n",
        "\n"
      ]
    }
  ]
}